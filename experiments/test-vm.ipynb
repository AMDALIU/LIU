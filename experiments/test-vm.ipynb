{
 "cells": [
  {
   "cell_type": "code",
   "execution_count": 2,
   "id": "front-defense",
   "metadata": {},
   "outputs": [],
   "source": [
    "import sys\n",
    "sys.path.append('../')\n",
    "import importlib\n",
    "import models.transunet as vit\n",
    "import experiments.config as conf\n",
    "import data_processing.dataset_synapse as dp \n",
    "import numpy as np\n",
    "import cv2\n",
    "import matplotlib.pyplot as plt\n",
    "import tensorflow as tf \n",
    "import tensorflow_addons as tfa"
   ]
  },
  {
   "cell_type": "code",
   "execution_count": 23,
   "id": "signal-quest",
   "metadata": {},
   "outputs": [
    {
     "name": "stdout",
     "output_type": "stream",
     "text": [
      "/home/bouzidkenza1/TransUnet/experiments\r\n"
     ]
    }
   ],
   "source": [
    "!pwd"
   ]
  },
  {
   "cell_type": "code",
   "execution_count": 24,
   "id": "enhanced-mistress",
   "metadata": {},
   "outputs": [
    {
     "name": "stdout",
     "output_type": "stream",
     "text": [
      "__init__.py  __pycache__  config.py  test-vit.ipynb  test-vm.ipynb\r\n"
     ]
    }
   ],
   "source": [
    "!cd /home/bouzidkenza1/TransUnet/data/train_npz\n",
    "!ls"
   ]
  },
  {
   "cell_type": "code",
   "execution_count": 12,
   "id": "falling-trace",
   "metadata": {},
   "outputs": [
    {
     "data": {
      "text/plain": [
       "[PhysicalDevice(name='/physical_device:GPU:0', device_type='GPU')]"
      ]
     },
     "execution_count": 12,
     "metadata": {},
     "output_type": "execute_result"
    }
   ],
   "source": [
    "tf.config.list_physical_devices('GPU')"
   ]
  },
  {
   "cell_type": "code",
   "execution_count": 3,
   "id": "shared-courage",
   "metadata": {},
   "outputs": [
    {
     "name": "stdout",
     "output_type": "stream",
     "text": [
      "CPU times: user 707 ms, sys: 663 ms, total: 1.37 s\n",
      "Wall time: 3.58 s\n"
     ]
    }
   ],
   "source": [
    "%%time\n",
    "data_dir = \"/home/bouzidkenza1/TransUnet/data/train_npz/\"\n",
    "X, y = dp.load_data(data_dir, 10)"
   ]
  },
  {
   "cell_type": "code",
   "execution_count": null,
   "id": "lightweight-determination",
   "metadata": {},
   "outputs": [],
   "source": [
    "X.shape"
   ]
  },
  {
   "cell_type": "code",
   "execution_count": 5,
   "id": "improved-warren",
   "metadata": {},
   "outputs": [
    {
     "name": "stderr",
     "output_type": "stream",
     "text": [
      "../models/utils.py:84: UserWarning: Resizing position embeddings from 24 to 32\n",
      "  UserWarning,\n"
     ]
    }
   ],
   "source": [
    "config = conf.get_b16_none()\n",
    "trans = vit.TransUnet(config)\n",
    "trans.compile()"
   ]
  },
  {
   "cell_type": "code",
   "execution_count": null,
   "id": "civil-orlando",
   "metadata": {},
   "outputs": [
    {
     "name": "stdout",
     "output_type": "stream",
     "text": [
      "Epoch 1/3\n",
      "1/1 [==============================] - 2s 2s/step - loss: 1.4170\n",
      "Epoch 2/3\n",
      "1/1 [==============================] - 2s 2s/step - loss: 0.7567\n",
      "Epoch 3/3\n"
     ]
    }
   ],
   "source": [
    "%%time\n",
    "with tf.device('device:GPU:0'):\n",
    "    trans.model.fit(x=X, y=y, epochs=3, batch_size=32, verbose=1)"
   ]
  }
 ],
 "metadata": {
  "kernelspec": {
   "display_name": "Python 3",
   "language": "python",
   "name": "python3"
  },
  "language_info": {
   "codemirror_mode": {
    "name": "ipython",
    "version": 3
   },
   "file_extension": ".py",
   "mimetype": "text/x-python",
   "name": "python",
   "nbconvert_exporter": "python",
   "pygments_lexer": "ipython3",
   "version": "3.7.10"
  }
 },
 "nbformat": 4,
 "nbformat_minor": 5
}

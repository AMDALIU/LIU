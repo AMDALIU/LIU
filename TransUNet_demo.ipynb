{
  "nbformat": 4,
  "nbformat_minor": 0,
  "metadata": {
    "orig_nbformat": 2,
    "colab": {
      "name": "TransUNet_demo.ipynb",
      "provenance": []
    },
    "language_info": {
      "name": "python"
    },
    "kernelspec": {
      "name": "python3",
      "display_name": "Python 3"
    }
  },
  "cells": [
    {
      "cell_type": "markdown",
      "metadata": {
        "id": "STKN5H8PZJSZ"
      },
      "source": [
        "# Medical Image Segmentation with Vision Transformers as a strong Encoder\n"
      ]
    },
    {
      "cell_type": "markdown",
      "metadata": {
        "id": "Dn_zA-FxdW7o"
      },
      "source": [
        "In this notebook, we provide a demo of the work available in this [repo](https://github.com/KenzaB27/TransUnet). \n",
        "\n",
        "TransUNet is a hybrid CNN-Transformer in a U-shaped architecture able to leverage both detailed high-resolution spatial information from CNN features and the global context encoded by Transformers in order to perform medical image segmentation.\n",
        "\n",
        "TansUNet was proposed by J.Chen et al. [in Feb 2021](https://arxiv.org/pdf/2102.04306.pdf).\n",
        "\n",
        "We reproduced the work of the paper above as part of the course Deep Learning in Data Science DD2424 @ [KTH](https://www.kth.se/en). \n",
        "\n",
        "Authors:\n",
        "*   [Agnieszka Miszkurka](https://www.linkedin.com/in/agnieszka-miszkurka/)\n",
        "*   [Tobias Höppe](https://www.linkedin.com/in/tobias-h%C3%B6ppe-3b3398199/)\n",
        "*   [Kenza Bouzid](https://www.linkedin.com/in/kenza-bouzid/?locale=en_US)"
      ]
    },
    {
      "cell_type": "markdown",
      "metadata": {
        "id": "rMjevND_dCpV"
      },
      "source": [
        "# Environment Set Up"
      ]
    },
    {
      "cell_type": "code",
      "metadata": {
        "id": "xaYzdTp3k5FF"
      },
      "source": [
        "!wget --load-cookies /tmp/cookies.txt \"https://docs.google.com/uc?export=download&confirm=$(wget --quiet --save-cookies /tmp/cookies.txt --keep-session-cookies --no-check-certificate 'https://docs.google.com/uc?export=download&id=1xWPm53hlQvKo8ahNGhogOMBw6dYLz0AE' -O- | sed -rn 's/.*confirm=([0-9A-Za-z_]+).*/\\1\\n/p')&id=1xWPm53hlQvKo8ahNGhogOMBw6dYLz0AE\" -O 224_transunet_transfer_learning.zip && rm -rf /tmp/cookies.txt\n",
        "!unzip 224_transunet_transfer_learning.zip \n",
        "!rm -r 224_transunet_transfer_learning.zip"
      ],
      "execution_count": null,
      "outputs": []
    },
    {
      "cell_type": "code",
      "metadata": {
        "id": "B4xhej5aZH7m",
        "outputId": "1fe94d79-5a3c-489b-a41b-47f9ac2755ae",
        "colab": {
          "base_uri": "https://localhost:8080/"
        }
      },
      "source": [
        "!git clone https://github.com/KenzaB27/TransUnet.git\n",
        "%cd TransUnet\n",
        "!pip install -r requirements.txt "
      ],
      "execution_count": 2,
      "outputs": [
        {
          "output_type": "stream",
          "text": [
            "  Building wheel for medpy (setup.py) ... \u001b[?25l\u001b[?25hdone\n",
            "  Created wheel for medpy: filename=MedPy-0.4.0-cp37-cp37m-linux_x86_64.whl size=754467 sha256=0d540131648205bb525eb6d40e6dd89e7d11a1268332d12fde33c0454c0f4672\n",
            "  Stored in directory: /root/.cache/pip/wheels/8c/c9/9c/2c6281c7a72b9fb1570862a4f028af7ce38405008354fbf870\n",
            "Successfully built medpy\n",
            "Installing collected packages: ml-collections, tensorflow-addons, validators, SimpleITK, medpy\n",
            "Successfully installed SimpleITK-2.0.2 medpy-0.4.0 ml-collections-0.1.0 tensorflow-addons-0.13.0 validators-0.18.2\n"
          ],
          "name": "stdout"
        }
      ]
    },
    {
      "cell_type": "code",
      "metadata": {
        "id": "hDngKG9rhKwg"
      },
      "source": [
        "import models.transunet as transunet\n",
        "import experiments.config as conf"
      ],
      "execution_count": 4,
      "outputs": []
    },
    {
      "cell_type": "markdown",
      "metadata": {
        "id": "bUD1jQ2IdS6E"
      },
      "source": [
        "# TransUNet in Action "
      ]
    },
    {
      "cell_type": "markdown",
      "metadata": {
        "id": "i1gwHEgRgR28"
      },
      "source": [
        "### Load Model "
      ]
    },
    {
      "cell_type": "code",
      "metadata": {
        "id": "xd9AHQHSgfS5",
        "outputId": "bb3f3500-8adb-4e51-dc9d-a393e272696d",
        "colab": {
          "base_uri": "https://localhost:8080/"
        }
      },
      "source": [
        "saved_model_path = \"/content/224_transunet_transfer_learning/model\"\n",
        "config = conf.get_transunet()\n",
        "network = transunet.TransUnet(config)\n",
        "network.load_model(saved_model_path=saved_model_path)"
      ],
      "execution_count": 6,
      "outputs": [
        {
          "output_type": "execute_result",
          "data": {
            "text/plain": [
              "<tensorflow.python.keras.engine.functional.Functional at 0x7fac9f07f250>"
            ]
          },
          "metadata": {
            "tags": []
          },
          "execution_count": 6
        }
      ]
    },
    {
      "cell_type": "code",
      "metadata": {
        "id": "j_hw8jOHnPWk"
      },
      "source": [
        ""
      ],
      "execution_count": null,
      "outputs": []
    }
  ]
}